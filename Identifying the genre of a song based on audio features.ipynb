{
 "nbformat": 4,
 "nbformat_minor": 0,
 "metadata": {
  "colab": {
   "provenance": []
  },
  "kernelspec": {
   "name": "python3",
   "language": "python",
   "display_name": "Python 3 (ipykernel)"
  },
  "language_info": {
   "name": "python"
  }
 },
 "cells": [
  {
   "cell_type": "markdown",
   "source": [
    "# Importing Libraries"
   ],
   "metadata": {
    "collapsed": false
   }
  },
  {
   "cell_type": "code",
   "execution_count": null,
   "outputs": [],
   "source": [
    "import pandas as pd\n",
    "import numpy as np\n",
    "import matplotlib.pyplot as plt\n",
    "import scipy\n",
    "import librosa\n",
    "import librosa.display\n",
    "from IPython.display import Audio\n",
    "from sklearn.preprocessing import normalize\n",
    "from sklearn.preprocessing import StandardScaler\n",
    "from sklearn.model_selection import train_test_split\n",
    "from sklearn.preprocessing import LabelEncoder\n",
    "import tensorflow as tf\n",
    "from tensorflow.keras.models import Sequential\n"
   ],
   "metadata": {
    "collapsed": false,
    "ExecuteTime": {
     "start_time": "2023-05-09T14:10:54.412532Z",
     "end_time": "2023-05-09T14:10:54.596006Z"
    }
   }
  },
  {
   "cell_type": "code",
   "execution_count": null,
   "outputs": [],
   "source": [],
   "metadata": {
    "collapsed": false,
    "ExecuteTime": {
     "start_time": "2023-05-09T14:17:41.203980Z",
     "end_time": "2023-05-09T14:17:41.227495Z"
    }
   }
  },
  {
   "cell_type": "markdown",
   "source": [
    "# Read the csv data"
   ],
   "metadata": {
    "collapsed": false
   }
  },
  {
   "cell_type": "code",
   "execution_count": null,
   "outputs": [],
   "source": [
    "df = pd.read_csv(r\"data\\features_3_sec.csv\")\n",
    "df.head()"
   ],
   "metadata": {
    "collapsed": false,
    "ExecuteTime": {
     "start_time": "2023-05-09T14:17:50.078948Z",
     "end_time": "2023-05-09T14:17:50.300541Z"
    }
   }
  },
  {
   "cell_type": "markdown",
   "source": [
    "# About the dataset"
   ],
   "metadata": {
    "collapsed": false
   }
  },
  {
   "cell_type": "code",
   "execution_count": null,
   "outputs": [],
   "source": [
    "df.dtypes"
   ],
   "metadata": {
    "collapsed": false,
    "ExecuteTime": {
     "start_time": "2023-05-09T14:10:54.658952Z",
     "end_time": "2023-05-09T14:10:54.878579Z"
    }
   }
  },
  {
   "cell_type": "code",
   "source": [
    "df.info"
   ],
   "metadata": {
    "colab": {
     "base_uri": "https://localhost:8080/"
    },
    "id": "Q6FehJiDB5s7",
    "outputId": "6b30be2c-ea0e-400f-b8d5-76f8fa2e77b4",
    "ExecuteTime": {
     "start_time": "2023-05-09T14:10:54.674578Z",
     "end_time": "2023-05-09T14:10:54.878579Z"
    }
   },
   "execution_count": null,
   "outputs": []
  },
  {
   "cell_type": "code",
   "source": [
    "df.shape"
   ],
   "metadata": {
    "colab": {
     "base_uri": "https://localhost:8080/"
    },
    "id": "yGcCTF_iLI3E",
    "outputId": "c898ed00-7316-40ec-ea3f-d76c4ed78cb3",
    "ExecuteTime": {
     "start_time": "2023-05-09T14:10:54.706343Z",
     "end_time": "2023-05-09T14:10:54.878579Z"
    }
   },
   "execution_count": null,
   "outputs": []
  },
  {
   "cell_type": "code",
   "execution_count": null,
   "outputs": [],
   "source": [
    "df = df.drop(labels = 'filename', axis = 1)"
   ],
   "metadata": {
    "collapsed": false,
    "ExecuteTime": {
     "start_time": "2023-05-09T14:10:54.721876Z",
     "end_time": "2023-05-09T14:10:54.878579Z"
    }
   }
  },
  {
   "cell_type": "markdown",
   "source": [
    "# Understanding the Audio Filesunderstan"
   ],
   "metadata": {
    "collapsed": false
   }
  },
  {
   "cell_type": "code",
   "source": [
    "audio_recording= r\"Data/genres_original/country/country.00050.wav\"\n",
    "data ,sr = librosa.load(audio_recording)\n",
    "print(type(data), type(sr))"
   ],
   "metadata": {
    "colab": {
     "base_uri": "https://localhost:8080/"
    },
    "id": "iHfDkRHhLUv7",
    "outputId": "aae787d3-a49a-4139-abfc-c2b2a6092820",
    "ExecuteTime": {
     "start_time": "2023-05-09T14:10:54.753162Z",
     "end_time": "2023-05-09T14:10:54.878579Z"
    }
   },
   "execution_count": null,
   "outputs": []
  },
  {
   "cell_type": "code",
   "source": [
    "data ,sr = librosa.load(audio_recording)"
   ],
   "metadata": {
    "id": "Pi8Q1bmYM_Xx",
    "ExecuteTime": {
     "start_time": "2023-05-09T14:10:54.800020Z",
     "end_time": "2023-05-09T14:10:54.878579Z"
    }
   },
   "execution_count": null,
   "outputs": []
  },
  {
   "cell_type": "code",
   "source": [
    "librosa.load(audio_recording, sr=45600)"
   ],
   "metadata": {
    "colab": {
     "base_uri": "https://localhost:8080/"
    },
    "id": "_lLprocbNGMK",
    "outputId": "be1612c9-896b-402c-853a-75ec71446041",
    "ExecuteTime": {
     "start_time": "2023-05-09T14:10:54.816064Z",
     "end_time": "2023-05-09T14:10:54.878579Z"
    }
   },
   "execution_count": null,
   "outputs": []
  },
  {
   "cell_type": "markdown",
   "source": [
    "\n",
    "# Python.display.Audio"
   ],
   "metadata": {
    "collapsed": false
   }
  },
  {
   "cell_type": "code",
   "source": [
    "import IPython\n",
    "IPython.display.Audio(data , rate=sr)"
   ],
   "metadata": {
    "colab": {
     "base_uri": "https://localhost:8080/",
     "height": 76
    },
    "id": "nkjn5dBPNzmy",
    "outputId": "78ec4b98-7e40-47f1-871b-30bdcb315dda",
    "ExecuteTime": {
     "start_time": "2023-05-09T14:10:54.862955Z",
     "end_time": "2023-05-09T14:10:55.193096Z"
    }
   },
   "execution_count": null,
   "outputs": []
  },
  {
   "cell_type": "markdown",
   "source": [
    "# Visualizing Audio Files and to display of it with the result in the website"
   ],
   "metadata": {
    "collapsed": false
   }
  },
  {
   "cell_type": "markdown",
   "source": [
    "### 1. Plot Raw Wave Files"
   ],
   "metadata": {
    "collapsed": false
   }
  },
  {
   "cell_type": "code",
   "execution_count": null,
   "outputs": [],
   "source": [
    "# plt.figure(figsize=(12, 4))\n",
    "# librosa.display.waveplot(data,color = \"#2B4F72\");"
   ],
   "metadata": {
    "collapsed": false,
    "ExecuteTime": {
     "start_time": "2023-05-09T14:10:55.006749Z",
     "end_time": "2023-05-09T14:10:55.271667Z"
    }
   }
  },
  {
   "cell_type": "markdown",
   "source": [
    "### 2. Spectrograms"
   ],
   "metadata": {
    "collapsed": false
   }
  },
  {
   "cell_type": "code",
   "execution_count": null,
   "outputs": [],
   "source": [
    "stft = librosa.stft(data)\n",
    "stft_dp = librosa.amplitude_to_db(abs(stft))\n",
    "plt.figure(figsize=(14, 6))\n",
    "librosa.display.specshow(stft, sr=sr,x_axis='time',y_axis='hz')\n",
    "plt.colorbar();"
   ],
   "metadata": {
    "collapsed": false,
    "ExecuteTime": {
     "start_time": "2023-05-09T14:10:55.006749Z",
     "end_time": "2023-05-09T14:10:56.679032Z"
    }
   }
  },
  {
   "cell_type": "markdown",
   "source": [
    "### 3.Spectral Rolloff"
   ],
   "metadata": {
    "collapsed": false
   }
  },
  {
   "cell_type": "code",
   "source": [
    "# spectral_rolloff = librosa.feature.spectral_rolloff(data+0.01, sr=sr)[0]\n",
    "# plt.figure(figsize=(12, 4))\n",
    "# librosa.display.waveplot(data, sr=sr, alpha=0.4, color= \"#2B4F72\")"
   ],
   "metadata": {
    "colab": {
     "base_uri": "https://localhost:8080/",
     "height": 296
    },
    "id": "V5Fr2PA5xC7b",
    "outputId": "2c22dc79-c596-4f0d-b153-c05aa6d63855",
    "ExecuteTime": {
     "start_time": "2023-05-09T14:10:56.486662Z",
     "end_time": "2023-05-09T14:10:56.694652Z"
    }
   },
   "execution_count": null,
   "outputs": []
  },
  {
   "cell_type": "markdown",
   "source": [
    "### 4. Zero Crossing Rate"
   ],
   "metadata": {
    "collapsed": false
   }
  },
  {
   "cell_type": "code",
   "source": [
    "start =1000\n",
    "end = 1200\n",
    "plt.figure(figsize=(12,5))\n",
    "plt.plot(data[start:end] , color = \"#2B4F72\")\n",
    "plt.grid()"
   ],
   "metadata": {
    "colab": {
     "base_uri": "https://localhost:8080/",
     "height": 320
    },
    "id": "MyZuZOFM0iQb",
    "outputId": "a32076c3-4880-46e9-b345-9653886a31ec",
    "ExecuteTime": {
     "start_time": "2023-05-09T14:10:56.509309Z",
     "end_time": "2023-05-09T14:10:56.726382Z"
    }
   },
   "execution_count": null,
   "outputs": []
  },
  {
   "cell_type": "code",
   "source": [
    "zero_cross_rate = librosa.zero_crossings(data[start:end] , pad=False)\n",
    "print(\"The number of zero-crossings is :\",sum(zero_cross_rate))"
   ],
   "metadata": {
    "colab": {
     "base_uri": "https://localhost:8080/"
    },
    "id": "OgCf3YDW076q",
    "outputId": "b9758481-f19a-4834-cd1c-c4c09b20e992",
    "ExecuteTime": {
     "start_time": "2023-05-09T14:10:56.679032Z",
     "end_time": "2023-05-09T14:10:56.992850Z"
    }
   },
   "execution_count": null,
   "outputs": []
  },
  {
   "cell_type": "markdown",
   "source": [
    "# Feature Extraction"
   ],
   "metadata": {
    "collapsed": false
   }
  },
  {
   "cell_type": "code",
   "source": [
    "class_list = df.iloc[:,-1]\n",
    "convertor = LabelEncoder()"
   ],
   "metadata": {
    "id": "r99x-VoO15gL",
    "ExecuteTime": {
     "start_time": "2023-05-09T14:10:56.694652Z",
     "end_time": "2023-05-09T14:10:56.992850Z"
    }
   },
   "execution_count": null,
   "outputs": []
  },
  {
   "cell_type": "code",
   "source": [
    "y = convertor.fit_transform(class_list)"
   ],
   "metadata": {
    "id": "bGcVpJl42MXB",
    "ExecuteTime": {
     "start_time": "2023-05-09T14:10:56.710724Z",
     "end_time": "2023-05-09T14:10:56.992850Z"
    }
   },
   "execution_count": null,
   "outputs": []
  },
  {
   "cell_type": "code",
   "source": [
    "y"
   ],
   "metadata": {
    "colab": {
     "base_uri": "https://localhost:8080/"
    },
    "id": "BPb5mLt22VVq",
    "outputId": "26dd9424-e06f-4eba-d947-feeda35602d2",
    "ExecuteTime": {
     "start_time": "2023-05-09T14:10:56.726382Z",
     "end_time": "2023-05-09T14:10:56.992850Z"
    }
   },
   "execution_count": null,
   "outputs": []
  },
  {
   "cell_type": "code",
   "source": [
    "print(df.iloc[:,-1])"
   ],
   "metadata": {
    "colab": {
     "base_uri": "https://localhost:8080/"
    },
    "id": "z47D-LAA2V6j",
    "outputId": "1e62de95-e13f-4270-dc38-d1c6b1a5822d",
    "ExecuteTime": {
     "start_time": "2023-05-09T14:10:56.742006Z",
     "end_time": "2023-05-09T14:10:56.992850Z"
    }
   },
   "execution_count": null,
   "outputs": []
  },
  {
   "cell_type": "markdown",
   "source": [
    "# Scaling the Features"
   ],
   "metadata": {
    "collapsed": false
   }
  },
  {
   "cell_type": "code",
   "execution_count": null,
   "outputs": [],
   "source": [
    "fit = StandardScaler()\n",
    "X = fit.fit_transform(np.array(df.iloc[:, :-1], dtype = float))"
   ],
   "metadata": {
    "collapsed": false,
    "ExecuteTime": {
     "start_time": "2023-05-09T14:10:56.757612Z",
     "end_time": "2023-05-09T14:10:56.992850Z"
    }
   }
  },
  {
   "cell_type": "markdown",
   "source": [
    "# Dividing Data Into Training and Testing Sets"
   ],
   "metadata": {
    "collapsed": false
   }
  },
  {
   "cell_type": "code",
   "execution_count": null,
   "outputs": [],
   "source": [
    "X_train, X_test, y_train, y_test = train_test_split(X, y, test_size = 0.33)"
   ],
   "metadata": {
    "collapsed": false,
    "ExecuteTime": {
     "start_time": "2023-05-09T14:10:56.810011Z",
     "end_time": "2023-05-09T14:10:56.992850Z"
    }
   }
  },
  {
   "cell_type": "code",
   "execution_count": null,
   "outputs": [],
   "source": [
    "len(y_train)"
   ],
   "metadata": {
    "collapsed": false,
    "ExecuteTime": {
     "start_time": "2023-05-09T14:10:56.820526Z",
     "end_time": "2023-05-09T14:10:56.992850Z"
    }
   }
  },
  {
   "cell_type": "code",
   "execution_count": null,
   "outputs": [],
   "source": [
    "len(y_test)"
   ],
   "metadata": {
    "collapsed": false,
    "ExecuteTime": {
     "start_time": "2023-05-09T14:10:56.836176Z",
     "end_time": "2023-05-09T14:10:56.992850Z"
    }
   }
  },
  {
   "cell_type": "markdown",
   "source": [
    "# Building the Model"
   ],
   "metadata": {
    "collapsed": false
   }
  },
  {
   "cell_type": "code",
   "execution_count": null,
   "outputs": [],
   "source": [
    "def train_model(unt, epochs, optimizer):\n",
    "    batch_size = 128\n",
    "    model.compile(optimizer = optimizer,\n",
    "                  loss = \"sparse_categorical_crossentropy\",\n",
    "                  metrics = 'accuracy')\n",
    "    return model.fit(X_train, y_train, validation_data = (X_test, y_test), epochs = epochs, batch_size = batch_size)"
   ],
   "metadata": {
    "collapsed": false,
    "ExecuteTime": {
     "start_time": "2023-05-09T14:10:56.851794Z",
     "end_time": "2023-05-09T14:10:56.992850Z"
    }
   }
  },
  {
   "cell_type": "code",
   "execution_count": null,
   "outputs": [],
   "source": [
    "def plot_validate(history):\n",
    "    print(\"Validation Accuracy\", max(history.history[\"val_accuracy\"]))\n",
    "    pd.DataFrame(history.history).plot(figsize = (12, 6))\n",
    "    plt.show()"
   ],
   "metadata": {
    "collapsed": false,
    "ExecuteTime": {
     "start_time": "2023-05-09T14:10:56.867418Z",
     "end_time": "2023-05-09T14:10:56.992850Z"
    }
   }
  },
  {
   "cell_type": "code",
   "source": [
    "model = k.models.Sequential([\n",
    "    k.layers.Dense (512, activation='relu', input_shape=(X_train.shape[1],)),\n",
    "    k.layers.Dropout (0.2),\n",
    "\n",
    "    k.layers.Dense(256, activation='relu'),\n",
    "    k.layers.Dropout (0.2),\n",
    "\n",
    "    k.layers.Dense (128, activation='relu'),\n",
    "    k.layers.Dropout (0.2),\n",
    "\n",
    "    k.layers.Dense (64, activation='relu'),\n",
    "    k.layers.Dropout (0.2),\n",
    "\n",
    "    k.layers.Dense (10, activation = \"softmax\"),\n",
    "    ])\n",
    "\n",
    "print(model.summary())\n",
    "model_history = train_model (model = model, epochs = 600, optimizer = 'adam')"
   ],
   "metadata": {
    "id": "1INfrEl_B0Lw"
   },
   "execution_count": null,
   "outputs": []
  },
  {
   "cell_type": "code",
   "execution_count": null,
   "outputs": [],
   "source": [
    "test_loss, test_acc = model.evelautate(X_test, y_test, batch_size = 128)\n",
    "print(f\"The test Loss is: {test_loss}\")\n",
    "print(f\"\\nthe Best test Accuracy is: {test_acc * 100}\")"
   ],
   "metadata": {
    "collapsed": false
   }
  }
 ]
}
